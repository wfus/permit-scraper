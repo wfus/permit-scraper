{
 "cells": [
  {
   "cell_type": "code",
   "execution_count": 168,
   "metadata": {
    "ExecuteTime": {
     "end_time": "2021-10-01T19:25:00.080536Z",
     "start_time": "2021-10-01T19:25:00.077063Z"
    }
   },
   "outputs": [],
   "source": [
    "from selenium import webdriver\n",
    "from selenium.webdriver.common.keys import Keys\n",
    "from selenium.webdriver.support.ui import Select\n",
    "from pathlib import Path\n",
    "import time\n",
    "from selenium.webdriver.common.action_chains import ActionChains"
   ]
  },
  {
   "cell_type": "code",
   "execution_count": 217,
   "metadata": {
    "ExecuteTime": {
     "end_time": "2021-10-01T19:49:00.224434Z",
     "start_time": "2021-10-01T19:49:00.210335Z"
    }
   },
   "outputs": [],
   "source": [
    "WHITNEY_URL = 'https://www.recreation.gov/permits/233260'\n",
    "\n",
    "\n",
    "def get_whitney_permit_message_2021():\n",
    "    \"\"\"Gets the status of whitney permits, 2021.\"\"\"\n",
    "\n",
    "    driver = webdriver.Firefox()\n",
    "    driver.get(WHITNEY_URL)\n",
    "\n",
    "    def _input_parameters_and_parse_availability(permit_type: str,\n",
    "                                                 num_people: int = 1):\n",
    "        \"\"\"Inputs the parameters the NPS website wants.\"\"\"\n",
    "        # There's a dropdown for {Overnight, Day Use}\n",
    "        # Overnight is index 1\n",
    "        # Day use is index 2\n",
    "\n",
    "        permit_type_map = {\"dayuse\": 2, \"overnight\": 1}\n",
    "        try:\n",
    "            selection_index = permit_type_map[permit_type]\n",
    "        except KeyError:\n",
    "            raise ValueError(f\"Expected {list(permit_type_map.keys())}\")\n",
    "\n",
    "        select = Select(\n",
    "            driver.find_element_by_xpath(\"//select[@id='division-selection']\"))\n",
    "        select.select_by_index(selection_index)\n",
    "        time.sleep(2.0)\n",
    "\n",
    "        # Select the number of people in your group.\n",
    "        your_input = driver.find_element_by_xpath(\n",
    "            \"//input[@id='number-input-']\")\n",
    "        your_input.clear()\n",
    "        your_input.send_keys(f\"{num_people}\")\n",
    "\n",
    "        # The table cells with nonzero aria-label corresponds to the \"calendar\" view\n",
    "        # showing available permits.\n",
    "        table_cells = [\n",
    "            el for el in driver.find_elements_by_xpath(\"//td\")\n",
    "            if el.get_attribute('aria-label') is not None\n",
    "        ]\n",
    "\n",
    "        # Get rid of anything that's None or \"Not Available\".\n",
    "        available = [\n",
    "            el for el in table_cells\n",
    "            if not 'Not available' in el.get_attribute('aria-label')\n",
    "        ]\n",
    "\n",
    "        # For all the rest, hover over to see the number of permits\n",
    "        res = {}\n",
    "        for a in available:\n",
    "            date = a.get_attribute('aria-label')\n",
    "            # Scroll to the thing\n",
    "            x, y = a.location['x'], a.location['y']\n",
    "            scroll_by_coord = 'window.scrollTo(%s,%s);' % (x, y)\n",
    "            scroll_nav_out_of_way = 'window.scrollBy(0, -120);'\n",
    "            driver.execute_script(scroll_by_coord)\n",
    "            driver.execute_script(scroll_nav_out_of_way)\n",
    "\n",
    "            ac = ActionChains(driver)\n",
    "            ac.move_to_element(a)\n",
    "            ac.perform()\n",
    "            time.sleep(0.5)\n",
    "            text = driver.find_element_by_xpath(\n",
    "                \"//div[contains(text(),'People:')]\").text\n",
    "            res[date] = text\n",
    "\n",
    "        return res\n",
    "\n",
    "    dayres = _input_parameters_and_parse_availability(\"dayuse\", 1)\n",
    "    overres = _input_parameters_and_parse_availability(\"overnight\", 1)\n",
    "    driver.close()\n",
    "\n",
    "    # Turn this into a nice message\n",
    "    output = \"Day Use Permits\\n\"\n",
    "    output += \"===============\\n\"\n",
    "    for date, lol in dayres.items():\n",
    "        output += f\"{date} - {lol}\\n\"\n",
    "\n",
    "    output += \"\\n\\n\"\n",
    "\n",
    "    output += \"Overnight Permits\\n\"\n",
    "    output += \"=================\\n\"\n",
    "    for date, lol in overres.items():\n",
    "        output += f\"{date} - {lol}\\n\"\n",
    "\n",
    "    output += \"\\n\\n\"\n",
    "    return output"
   ]
  },
  {
   "cell_type": "code",
   "execution_count": 218,
   "metadata": {
    "ExecuteTime": {
     "end_time": "2021-10-01T20:02:33.719665Z",
     "start_time": "2021-10-01T19:49:00.414193Z"
    }
   },
   "outputs": [
    {
     "name": "stdout",
     "output_type": "stream",
     "text": [
      "Day Use Permits\n",
      "===============\n",
      "Friday, October 1, 2021 - People: 1 out of 99+\n",
      "Friday, October 8, 2021 - People: 1 out of 99+\n",
      "Thursday, October 14, 2021 - People: 1 out of 99+\n",
      "\n",
      "\n",
      "Overnight Permits\n",
      "=================\n",
      "Friday, October 8, 2021 - People: 2 out of 60\n",
      "\n",
      "\n",
      "\n",
      "Day Use Permits\n",
      "===============\n",
      "Friday, October 1, 2021 - People: 1 out of 99+\n",
      "Friday, October 8, 2021 - People: 1 out of 99+\n",
      "Thursday, October 14, 2021 - People: 1 out of 99+\n",
      "\n",
      "\n",
      "Overnight Permits\n",
      "=================\n",
      "\n",
      "\n",
      "\n",
      "Day Use Permits\n",
      "===============\n",
      "Friday, October 1, 2021 - People: 1 out of 99+\n",
      "Friday, October 8, 2021 - People: 1 out of 99+\n",
      "Thursday, October 14, 2021 - People: 1 out of 99+\n",
      "\n",
      "\n",
      "Overnight Permits\n",
      "=================\n",
      "\n",
      "\n",
      "\n",
      "Day Use Permits\n",
      "===============\n",
      "Friday, October 1, 2021 - People: 1 out of 99+\n",
      "Friday, October 8, 2021 - People: 1 out of 99+\n",
      "Thursday, October 14, 2021 - People: 1 out of 99+\n",
      "\n",
      "\n",
      "Overnight Permits\n",
      "=================\n",
      "\n",
      "\n",
      "\n",
      "Day Use Permits\n",
      "===============\n",
      "Friday, October 1, 2021 - People: 1 out of 99+\n",
      "Friday, October 8, 2021 - People: 1 out of 99+\n",
      "Thursday, October 14, 2021 - People: 1 out of 99+\n",
      "\n",
      "\n",
      "Overnight Permits\n",
      "=================\n",
      "\n",
      "\n",
      "\n",
      "Day Use Permits\n",
      "===============\n",
      "Friday, October 1, 2021 - \n",
      "Thursday, October 14, 2021 - \n",
      "\n",
      "\n",
      "Overnight Permits\n",
      "=================\n",
      "\n",
      "\n",
      "\n",
      "Day Use Permits\n",
      "===============\n",
      "Friday, October 1, 2021 - \n",
      "Thursday, October 14, 2021 - \n",
      "\n",
      "\n",
      "Overnight Permits\n",
      "=================\n",
      "\n",
      "\n",
      "\n",
      "Day Use Permits\n",
      "===============\n",
      "Friday, October 1, 2021 - People: 1 out of 99+\n",
      "Thursday, October 14, 2021 - People: 1 out of 99+\n",
      "\n",
      "\n",
      "Overnight Permits\n",
      "=================\n",
      "\n",
      "\n",
      "\n",
      "Day Use Permits\n",
      "===============\n",
      "Friday, October 1, 2021 - People: 1 out of 99+\n",
      "Thursday, October 14, 2021 - People: 1 out of 99+\n",
      "\n",
      "\n",
      "Overnight Permits\n",
      "=================\n",
      "\n",
      "\n",
      "\n",
      "Day Use Permits\n",
      "===============\n",
      "Friday, October 1, 2021 - People: 1 out of 99+\n",
      "Thursday, October 14, 2021 - People: 1 out of 99+\n",
      "\n",
      "\n",
      "Overnight Permits\n",
      "=================\n",
      "\n",
      "\n",
      "\n"
     ]
    },
    {
     "ename": "KeyboardInterrupt",
     "evalue": "",
     "output_type": "error",
     "traceback": [
      "\u001b[0;31m---------------------------------------------------------------------------\u001b[0m",
      "\u001b[0;31mKeyboardInterrupt\u001b[0m                         Traceback (most recent call last)",
      "\u001b[0;32m<ipython-input-218-9050a4f6def8>\u001b[0m in \u001b[0;36m<module>\u001b[0;34m\u001b[0m\n\u001b[1;32m      3\u001b[0m \u001b[0;34m\u001b[0m\u001b[0m\n\u001b[1;32m      4\u001b[0m \u001b[0;32mwhile\u001b[0m \u001b[0;32mTrue\u001b[0m\u001b[0;34m:\u001b[0m\u001b[0;34m\u001b[0m\u001b[0;34m\u001b[0m\u001b[0m\n\u001b[0;32m----> 5\u001b[0;31m     \u001b[0;32mif\u001b[0m \u001b[0mtime\u001b[0m\u001b[0;34m.\u001b[0m\u001b[0mtime\u001b[0m\u001b[0;34m(\u001b[0m\u001b[0;34m)\u001b[0m \u001b[0;34m-\u001b[0m \u001b[0mlast_fetch\u001b[0m \u001b[0;34m<\u001b[0m \u001b[0;36m60\u001b[0m\u001b[0;34m:\u001b[0m\u001b[0;34m\u001b[0m\u001b[0;34m\u001b[0m\u001b[0m\n\u001b[0m\u001b[1;32m      6\u001b[0m         \u001b[0;32mcontinue\u001b[0m\u001b[0;34m\u001b[0m\u001b[0;34m\u001b[0m\u001b[0m\n\u001b[1;32m      7\u001b[0m \u001b[0;34m\u001b[0m\u001b[0m\n",
      "\u001b[0;31mKeyboardInterrupt\u001b[0m: "
     ]
    }
   ],
   "source": [
    "last_fetch = 0\n",
    "last_message = None\n",
    "\n",
    "while True:\n",
    "    if time.time() - last_fetch < 60:\n",
    "        continue\n",
    "        \n",
    "    try:\n",
    "        message = get_whitney_permit_message_2021()\n",
    "        print(message)\n",
    "        last_message = message\n",
    "        \n",
    "        if message != last_message:\n",
    "            print(\"Message changed!\")\n",
    "\n",
    "    except Exception as err:\n",
    "        print(err)\n",
    "\n",
    "    last_fetch = time.time()"
   ]
  },
  {
   "cell_type": "code",
   "execution_count": null,
   "metadata": {
    "ExecuteTime": {
     "end_time": "2021-10-01T20:02:33.723265Z",
     "start_time": "2021-10-01T19:49:00.515Z"
    }
   },
   "outputs": [],
   "source": [
    "start_time = time.time()"
   ]
  },
  {
   "cell_type": "code",
   "execution_count": 212,
   "metadata": {
    "ExecuteTime": {
     "end_time": "2021-10-01T19:45:14.035459Z",
     "start_time": "2021-10-01T19:45:14.030986Z"
    }
   },
   "outputs": [
    {
     "data": {
      "text/plain": [
       "11.110034942626953"
      ]
     },
     "execution_count": 212,
     "metadata": {},
     "output_type": "execute_result"
    }
   ],
   "source": [
    "time.time() - start_time"
   ]
  },
  {
   "cell_type": "code",
   "execution_count": 213,
   "metadata": {
    "ExecuteTime": {
     "end_time": "2021-10-01T19:45:33.039517Z",
     "start_time": "2021-10-01T19:45:33.034256Z"
    }
   },
   "outputs": [
    {
     "data": {
      "text/plain": [
       "1633117533.035893"
      ]
     },
     "execution_count": 213,
     "metadata": {},
     "output_type": "execute_result"
    }
   ],
   "source": [
    "time.time()"
   ]
  },
  {
   "cell_type": "code",
   "execution_count": null,
   "metadata": {},
   "outputs": [],
   "source": []
  }
 ],
 "metadata": {
  "kernelspec": {
   "display_name": "Python 3",
   "language": "python",
   "name": "python3"
  },
  "language_info": {
   "codemirror_mode": {
    "name": "ipython",
    "version": 3
   },
   "file_extension": ".py",
   "mimetype": "text/x-python",
   "name": "python",
   "nbconvert_exporter": "python",
   "pygments_lexer": "ipython3",
   "version": "3.8.1"
  },
  "toc": {
   "base_numbering": 1,
   "nav_menu": {},
   "number_sections": true,
   "sideBar": true,
   "skip_h1_title": false,
   "title_cell": "Table of Contents",
   "title_sidebar": "Contents",
   "toc_cell": false,
   "toc_position": {},
   "toc_section_display": true,
   "toc_window_display": false
  }
 },
 "nbformat": 4,
 "nbformat_minor": 4
}
